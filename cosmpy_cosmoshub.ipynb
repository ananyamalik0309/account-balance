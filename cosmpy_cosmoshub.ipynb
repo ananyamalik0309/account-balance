{
 "cells": [
  {
   "cell_type": "code",
   "execution_count": 2,
   "metadata": {},
   "outputs": [
    {
     "name": "stdout",
     "output_type": "stream",
     "text": [
      "Requirement already satisfied: cosmpy in /Library/Frameworks/Python.framework/Versions/3.11/lib/python3.11/site-packages (0.9.1)\n",
      "Requirement already satisfied: bech32 in /Library/Frameworks/Python.framework/Versions/3.11/lib/python3.11/site-packages (from cosmpy) (1.2.0)\n",
      "Requirement already satisfied: ecdsa in /Library/Frameworks/Python.framework/Versions/3.11/lib/python3.11/site-packages (from cosmpy) (0.18.0)\n",
      "Requirement already satisfied: googleapis-common-protos in /Library/Frameworks/Python.framework/Versions/3.11/lib/python3.11/site-packages (from cosmpy) (1.62.0)\n",
      "Requirement already satisfied: grpcio==1.51.1 in /Library/Frameworks/Python.framework/Versions/3.11/lib/python3.11/site-packages (from cosmpy) (1.51.1)\n",
      "Requirement already satisfied: jsonschema<5,>=3.2.0 in /Library/Frameworks/Python.framework/Versions/3.11/lib/python3.11/site-packages (from cosmpy) (4.20.0)\n",
      "Requirement already satisfied: protobuf<5.0dev,>=4.21.6 in /Library/Frameworks/Python.framework/Versions/3.11/lib/python3.11/site-packages (from cosmpy) (4.25.1)\n",
      "Requirement already satisfied: pycryptodome<4.0.0,>=3.18.0 in /Library/Frameworks/Python.framework/Versions/3.11/lib/python3.11/site-packages (from cosmpy) (3.19.0)\n",
      "Requirement already satisfied: python-dateutil in /Users/ananya/Library/Python/3.11/lib/python/site-packages (from cosmpy) (2.8.2)\n",
      "Requirement already satisfied: requests in /Library/Frameworks/Python.framework/Versions/3.11/lib/python3.11/site-packages (from cosmpy) (2.25.1)\n",
      "Requirement already satisfied: attrs>=22.2.0 in /Library/Frameworks/Python.framework/Versions/3.11/lib/python3.11/site-packages (from jsonschema<5,>=3.2.0->cosmpy) (23.1.0)\n",
      "Requirement already satisfied: jsonschema-specifications>=2023.03.6 in /Library/Frameworks/Python.framework/Versions/3.11/lib/python3.11/site-packages (from jsonschema<5,>=3.2.0->cosmpy) (2023.11.2)\n",
      "Requirement already satisfied: referencing>=0.28.4 in /Library/Frameworks/Python.framework/Versions/3.11/lib/python3.11/site-packages (from jsonschema<5,>=3.2.0->cosmpy) (0.32.0)\n",
      "Requirement already satisfied: rpds-py>=0.7.1 in /Library/Frameworks/Python.framework/Versions/3.11/lib/python3.11/site-packages (from jsonschema<5,>=3.2.0->cosmpy) (0.15.2)\n",
      "Requirement already satisfied: six>=1.9.0 in /Users/ananya/Library/Python/3.11/lib/python/site-packages (from ecdsa->cosmpy) (1.16.0)\n",
      "Requirement already satisfied: chardet<5,>=3.0.2 in /Library/Frameworks/Python.framework/Versions/3.11/lib/python3.11/site-packages (from requests->cosmpy) (4.0.0)\n",
      "Requirement already satisfied: idna<3,>=2.5 in /Library/Frameworks/Python.framework/Versions/3.11/lib/python3.11/site-packages (from requests->cosmpy) (2.10)\n",
      "Requirement already satisfied: urllib3<1.27,>=1.21.1 in /Library/Frameworks/Python.framework/Versions/3.11/lib/python3.11/site-packages (from requests->cosmpy) (1.26.18)\n",
      "Requirement already satisfied: certifi>=2017.4.17 in /Library/Frameworks/Python.framework/Versions/3.11/lib/python3.11/site-packages (from requests->cosmpy) (2023.7.22)\n",
      "\n",
      "\u001b[1m[\u001b[0m\u001b[34;49mnotice\u001b[0m\u001b[1;39;49m]\u001b[0m\u001b[39;49m A new release of pip is available: \u001b[0m\u001b[31;49m23.2.1\u001b[0m\u001b[39;49m -> \u001b[0m\u001b[32;49m23.3.2\u001b[0m\n",
      "\u001b[1m[\u001b[0m\u001b[34;49mnotice\u001b[0m\u001b[1;39;49m]\u001b[0m\u001b[39;49m To update, run: \u001b[0m\u001b[32;49mpip3 install --upgrade pip\u001b[0m\n",
      "Note: you may need to restart the kernel to use updated packages.\n"
     ]
    }
   ],
   "source": [
    "pip install cosmpy"
   ]
  },
  {
   "cell_type": "code",
   "execution_count": 2,
   "metadata": {},
   "outputs": [
    {
     "ename": "NameError",
     "evalue": "name 'cosmos_ledger_client' is not defined",
     "output_type": "error",
     "traceback": [
      "\u001b[0;31m---------------------------------------------------------------------------\u001b[0m",
      "\u001b[0;31mNameError\u001b[0m                                 Traceback (most recent call last)",
      "\u001b[1;32m/Users/ananya/account-balance/cosmpy_cosmoshub.ipynb Cell 2\u001b[0m line \u001b[0;36m1\n\u001b[1;32m      <a href='vscode-notebook-cell:/Users/ananya/account-balance/cosmpy_cosmoshub.ipynb#W2sZmlsZQ%3D%3D?line=3'>4</a>\u001b[0m cosmoshub_cfg \u001b[39m=\u001b[39m NetworkConfig(\n\u001b[1;32m      <a href='vscode-notebook-cell:/Users/ananya/account-balance/cosmpy_cosmoshub.ipynb#W2sZmlsZQ%3D%3D?line=4'>5</a>\u001b[0m     chain_id\u001b[39m=\u001b[39m\u001b[39m\"\u001b[39m\u001b[39mcosmoshub-4\u001b[39m\u001b[39m\"\u001b[39m,\n\u001b[1;32m      <a href='vscode-notebook-cell:/Users/ananya/account-balance/cosmpy_cosmoshub.ipynb#W2sZmlsZQ%3D%3D?line=5'>6</a>\u001b[0m     url\u001b[39m=\u001b[39m\u001b[39m\"\u001b[39m\u001b[39mgrpc+https://cosmoshub-grpc.lavenderfive.com:443\u001b[39m\u001b[39m\"\u001b[39m,\n\u001b[0;32m   (...)\u001b[0m\n\u001b[1;32m      <a href='vscode-notebook-cell:/Users/ananya/account-balance/cosmpy_cosmoshub.ipynb#W2sZmlsZQ%3D%3D?line=8'>9</a>\u001b[0m     staking_denomination\u001b[39m=\u001b[39m\u001b[39m\"\u001b[39m\u001b[39muatom\u001b[39m\u001b[39m\"\u001b[39m,\n\u001b[1;32m     <a href='vscode-notebook-cell:/Users/ananya/account-balance/cosmpy_cosmoshub.ipynb#W2sZmlsZQ%3D%3D?line=9'>10</a>\u001b[0m )\n\u001b[1;32m     <a href='vscode-notebook-cell:/Users/ananya/account-balance/cosmpy_cosmoshub.ipynb#W2sZmlsZQ%3D%3D?line=10'>11</a>\u001b[0m cosmos_address : \u001b[39mstr\u001b[39m \u001b[39m=\u001b[39m \u001b[39m\"\u001b[39m\u001b[39mcosmos1ukpah0340rx7k3x2njnavwyjv6pfpvn657eufn\u001b[39m\u001b[39m\"\u001b[39m\n\u001b[0;32m---> <a href='vscode-notebook-cell:/Users/ananya/account-balance/cosmpy_cosmoshub.ipynb#W2sZmlsZQ%3D%3D?line=11'>12</a>\u001b[0m balances \u001b[39m=\u001b[39m cosmos_ledger_client\u001b[39m.\u001b[39mquery_bank_all_balances(cosmos_address)\n\u001b[1;32m     <a href='vscode-notebook-cell:/Users/ananya/account-balance/cosmpy_cosmoshub.ipynb#W2sZmlsZQ%3D%3D?line=12'>13</a>\u001b[0m staking \u001b[39m=\u001b[39m cosmos_ledger_client\u001b[39m.\u001b[39mquery_staking_summary(cosmos_address)\n\u001b[1;32m     <a href='vscode-notebook-cell:/Users/ananya/account-balance/cosmpy_cosmoshub.ipynb#W2sZmlsZQ%3D%3D?line=14'>15</a>\u001b[0m \u001b[39mprint\u001b[39m(staking)\n",
      "\u001b[0;31mNameError\u001b[0m: name 'cosmos_ledger_client' is not defined"
     ]
    }
   ],
   "source": [
    "\n",
    "\n",
    "from cosmpy.aerial.client import LedgerClient, NetworkConfig\n",
    "\n",
    "\n",
    "cosmoshub_cfg = NetworkConfig(\n",
    "    chain_id=\"cosmoshub-4\",\n",
    "    url=\"grpc+https://cosmoshub-grpc.lavenderfive.com:443\",\n",
    "    fee_minimum_gas_price=1,\n",
    "    fee_denomination=\"uatom\",\n",
    "    staking_denomination=\"uatom\",\n",
    ")\n",
    "\n",
    "\n",
    "cosmos_ledger_client = LedgerClient(cosmoshub_cfg)\n",
    "cosmos_address : str = \"cosmos1ukpah0340rx7k3x2njnavwyjv6pfpvn657eufn\"\n",
    "balances = cosmos_ledger_client.query_bank_all_balances(cosmos_address)\n",
    "staking = cosmos_ledger_client.query_staking_summary(cosmos_address)\n",
    "\n",
    "print(staking)\n",
    "print(\" \")\n",
    "# show all coin balances\n",
    "for coin in balances:\n",
    "  print(f'{coin.amount}{coin.denom}')"
   ]
  }
 ],
 "metadata": {
  "kernelspec": {
   "display_name": "Python 3",
   "language": "python",
   "name": "python3"
  },
  "language_info": {
   "codemirror_mode": {
    "name": "ipython",
    "version": 3
   },
   "file_extension": ".py",
   "mimetype": "text/x-python",
   "name": "python",
   "nbconvert_exporter": "python",
   "pygments_lexer": "ipython3",
   "version": "3.11.5"
  },
  "orig_nbformat": 4
 },
 "nbformat": 4,
 "nbformat_minor": 2
}
