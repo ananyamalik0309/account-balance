{
 "cells": [
  {
   "cell_type": "code",
   "execution_count": 2,
   "metadata": {},
   "outputs": [
    {
     "name": "stdout",
     "output_type": "stream",
     "text": [
      "Requirement already satisfied: cosmpy in /Library/Frameworks/Python.framework/Versions/3.11/lib/python3.11/site-packages (0.9.1)\n",
      "Requirement already satisfied: bech32 in /Library/Frameworks/Python.framework/Versions/3.11/lib/python3.11/site-packages (from cosmpy) (1.2.0)\n",
      "Requirement already satisfied: ecdsa in /Library/Frameworks/Python.framework/Versions/3.11/lib/python3.11/site-packages (from cosmpy) (0.18.0)\n",
      "Requirement already satisfied: googleapis-common-protos in /Library/Frameworks/Python.framework/Versions/3.11/lib/python3.11/site-packages (from cosmpy) (1.62.0)\n",
      "Requirement already satisfied: grpcio==1.51.1 in /Library/Frameworks/Python.framework/Versions/3.11/lib/python3.11/site-packages (from cosmpy) (1.51.1)\n",
      "Requirement already satisfied: jsonschema<5,>=3.2.0 in /Library/Frameworks/Python.framework/Versions/3.11/lib/python3.11/site-packages (from cosmpy) (4.20.0)\n",
      "Requirement already satisfied: protobuf<5.0dev,>=4.21.6 in /Library/Frameworks/Python.framework/Versions/3.11/lib/python3.11/site-packages (from cosmpy) (4.25.1)\n",
      "Requirement already satisfied: pycryptodome<4.0.0,>=3.18.0 in /Library/Frameworks/Python.framework/Versions/3.11/lib/python3.11/site-packages (from cosmpy) (3.19.0)\n",
      "Requirement already satisfied: python-dateutil in /Users/ananya/Library/Python/3.11/lib/python/site-packages (from cosmpy) (2.8.2)\n",
      "Requirement already satisfied: requests in /Library/Frameworks/Python.framework/Versions/3.11/lib/python3.11/site-packages (from cosmpy) (2.25.1)\n",
      "Requirement already satisfied: attrs>=22.2.0 in /Library/Frameworks/Python.framework/Versions/3.11/lib/python3.11/site-packages (from jsonschema<5,>=3.2.0->cosmpy) (23.1.0)\n",
      "Requirement already satisfied: jsonschema-specifications>=2023.03.6 in /Library/Frameworks/Python.framework/Versions/3.11/lib/python3.11/site-packages (from jsonschema<5,>=3.2.0->cosmpy) (2023.11.2)\n",
      "Requirement already satisfied: referencing>=0.28.4 in /Library/Frameworks/Python.framework/Versions/3.11/lib/python3.11/site-packages (from jsonschema<5,>=3.2.0->cosmpy) (0.32.0)\n",
      "Requirement already satisfied: rpds-py>=0.7.1 in /Library/Frameworks/Python.framework/Versions/3.11/lib/python3.11/site-packages (from jsonschema<5,>=3.2.0->cosmpy) (0.15.2)\n",
      "Requirement already satisfied: six>=1.9.0 in /Users/ananya/Library/Python/3.11/lib/python/site-packages (from ecdsa->cosmpy) (1.16.0)\n",
      "Requirement already satisfied: chardet<5,>=3.0.2 in /Library/Frameworks/Python.framework/Versions/3.11/lib/python3.11/site-packages (from requests->cosmpy) (4.0.0)\n",
      "Requirement already satisfied: idna<3,>=2.5 in /Library/Frameworks/Python.framework/Versions/3.11/lib/python3.11/site-packages (from requests->cosmpy) (2.10)\n",
      "Requirement already satisfied: urllib3<1.27,>=1.21.1 in /Library/Frameworks/Python.framework/Versions/3.11/lib/python3.11/site-packages (from requests->cosmpy) (1.26.18)\n",
      "Requirement already satisfied: certifi>=2017.4.17 in /Library/Frameworks/Python.framework/Versions/3.11/lib/python3.11/site-packages (from requests->cosmpy) (2023.7.22)\n",
      "\n",
      "\u001b[1m[\u001b[0m\u001b[34;49mnotice\u001b[0m\u001b[1;39;49m]\u001b[0m\u001b[39;49m A new release of pip is available: \u001b[0m\u001b[31;49m23.2.1\u001b[0m\u001b[39;49m -> \u001b[0m\u001b[32;49m23.3.2\u001b[0m\n",
      "\u001b[1m[\u001b[0m\u001b[34;49mnotice\u001b[0m\u001b[1;39;49m]\u001b[0m\u001b[39;49m To update, run: \u001b[0m\u001b[32;49mpip3 install --upgrade pip\u001b[0m\n",
      "Note: you may need to restart the kernel to use updated packages.\n"
     ]
    }
   ],
   "source": [
    "pip install cosmpy"
   ]
  },
  {
   "cell_type": "code",
   "execution_count": 10,
   "metadata": {},
   "outputs": [
    {
     "name": "stdout",
     "output_type": "stream",
     "text": [
      "1000000-cosmosvaloper1ukpah0340rx7k3x2njnavwyjv6pfpvn632df9q/3200\n",
      "272819-ibc/0025F8A87464A471E66B234C4F93AEC5B4DA3D42D7986451A059273426290DD5\n",
      "279777-ibc/054892D6BB43AF8B93AAC28AA5FD7019D2C59A15DAFD6F45C1FA2BF9BDA22454\n",
      "12986-ibc/5CAE744C89BC70AE7B38019A1EDF83199B7E10F00F160E7F4F12BCA7A32A7EE5\n",
      "1698116-ibc/6B8A3F5C2AD51CD6171FA41A7E8C35AD594AB69226438DB94450436EA57B3A89\n",
      "1289321-ibc/715BD634CF4D914C3EE93B0F8A9D2514B743F6FE36BC80263D1BC5EE4B3C5D40\n",
      "109114-ibc/88DCAA43A9CD099E1F9BBB80B9A90F64782EBA115A84B2CD8398757ADA4F4B40\n",
      "14760-ibc/A4D99E716D91A579AC3A9684AAB7B5CB0A0861DD3DD942901D970EDB6787860E\n",
      "5339511143166140-ibc/B011C1A0AD5E717F674BA59FD8E05B2F946E4FD41C9CB3311C95F7ED4B815620\n",
      "121915-ibc/B05539B66B72E2739B986B86391E5D08F12B8D5D2C2A7F8F8CF9ADF674DFA231\n",
      "928266980048336163-ibc/B38AAA0F7A3EC4D7C8E12DFA33FF93205FE7A42738A4B0590E2FF15BC60A612B\n",
      "1195307-ibc/D41ECC8FEF1B7E9C4BCC58B1362588420853A9D0B898EDD513D9B79AFFA195C8\n",
      "215094-ibc/E92E07E68705FAD13305EE9C73684B30A7B66A52F54C9890327E0A4C0F1D22E3\n",
      "4840-ibc/FA33D22EED651DC2D251315AAE2E7C5BA924D308081EE9760AE653AA2F6661CB\n",
      "36412556-uatom\n"
     ]
    }
   ],
   "source": [
    "\n",
    "\n",
    "from cosmpy.aerial.client import LedgerClient, NetworkConfig\n",
    "\n",
    "\n",
    "# cosmoshub_cfg = NetworkConfig(\n",
    "#     chain_id=\"cosmoshub-4\",\n",
    "#     url=\"grpc+https://cosmoshub-grpc.lavenderfive.com:443\",\n",
    "#     fee_minimum_gas_price=1,\n",
    "#     fee_denomination=\"uatom\",\n",
    "#     staking_denomination=\"uatom\",\n",
    "# )\n",
    "\n",
    "\n",
    "osmosis_cfg = NetworkConfig(\n",
    "    chain_id=\"osmosis-1\",\n",
    "    url=\"grpc+https://osmosis-grpc.lavenderfive.com:443\",\n",
    "    fee_minimum_gas_price=1,\n",
    "    fee_denomination=\"uosmo\",\n",
    "    staking_denomination=\"uosmo\",\n",
    ")\n",
    "\n",
    "#cosmos_ledger_client = LedgerClient(cosmoshub_cfg)\n",
    "osmosis_ledger_client = LedgerClient(osmosis_cfg)\n",
    "def getDenomDetails(denom):\n",
    "\n",
    "     if denom.startswith(\"cosmosvaloper\"):\n",
    "        return (\"atom\", 6)\n",
    "     if denom == \"uatom\":\n",
    "        return (\"atom\", 6)\n",
    "     if denom.startswith(\"ibc\"):\n",
    "        return (\"usdc\", 12)\n",
    "     \n",
    "#     #localFile -> manual entries : denom -> currency, decimal, symbol\n",
    "#     #internetLookup -> lookup\n",
    "#     #error raise program stop : please add manual entry for this denom \n",
    "#     (currency, decimal, symbol)\n",
    "\n",
    "\n",
    "# connect to Fetch.ai network using default parameters\n",
    "#ledger_client = LedgerClient(NetworkConfig.fetchai_mainnet())\n",
    "\n",
    "#alice: str = 'fetch12q5gw9l9d0yyq2th77x6pjsesczpsly8h5089x'\n",
    "#cosmos_address : str = \"cosmos1ukpah0340rx7k3x2njnavwyjv6pfpvn657eufn\"\n",
    "osmosis_address : str = \"\"\n",
    "balances = cosmos_ledger_client.query_bank_all_balances(cosmos_address)\n",
    "\n",
    "# show all coin balances\n",
    "for coin in balances:\n",
    "  print(f'{coin.amount}-{coin.denom}')"
   ]
  }
 ],
 "metadata": {
  "kernelspec": {
   "display_name": "Python 3",
   "language": "python",
   "name": "python3"
  },
  "language_info": {
   "codemirror_mode": {
    "name": "ipython",
    "version": 3
   },
   "file_extension": ".py",
   "mimetype": "text/x-python",
   "name": "python",
   "nbconvert_exporter": "python",
   "pygments_lexer": "ipython3",
   "version": "3.11.5"
  },
  "orig_nbformat": 4
 },
 "nbformat": 4,
 "nbformat_minor": 2
}
