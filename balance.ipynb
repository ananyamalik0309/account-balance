{
 "cells": [
  {
   "cell_type": "code",
   "execution_count": null,
   "metadata": {},
   "outputs": [],
   "source": [
    "import requests\n",
    "\n",
    "rpc_endpoint = \"https://rpc-osmosis-ia.cosmosia.notional.ventures/\"\n",
    "account_address = \"<account_address>\"\n",
    "denom = \"uatom\"\n",
    "\n",
    "data = {\n",
    "    \"jsonrpc\": \"2.0\",\n",
    "    \"id\": \"1\",\n",
    "    \"method\": \"bank/balance\",\n",
    "    \"params\": {\"address\": account_address, \"denom\": denom}\n",
    "}\n",
    "\n",
    "headers = {\"Content-Type\": \"application/json\"}\n",
    "\n",
    "response = requests.post(rpc_endpoint, json=data, headers=headers)\n",
    "\n",
    "if response.status_code == 200:\n",
    "    result = response.json()\n",
    "    print(\"Balance:\", result[\"result\"][0][\"amount\"], denom)\n",
    "else:\n",
    "    print(\"Error:\", response.status_code, response.text)"
   ]
  }
 ],
 "metadata": {
  "language_info": {
   "name": "python"
  },
  "orig_nbformat": 4
 },
 "nbformat": 4,
 "nbformat_minor": 2
}
